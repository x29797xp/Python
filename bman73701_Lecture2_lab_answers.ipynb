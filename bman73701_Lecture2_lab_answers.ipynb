{
 "cells": [
  {
   "cell_type": "markdown",
   "id": "ab561e9a",
   "metadata": {},
   "source": [
    "## **Programming in Python for Business Analytics (BMAN73701)**"
   ]
  },
  {
   "cell_type": "markdown",
   "id": "f54ec7f6",
   "metadata": {},
   "source": [
    "### **Lab Session: Lecture 2 - Conditionals and Loops**"
   ]
  },
  {
   "cell_type": "markdown",
   "id": "fb01aa9c",
   "metadata": {},
   "source": [
    "If you are comfortable with the material, then you can just do the exercises, though do try to read through the examples provided as they cover some common mistakes and some of the statements required for the exercises."
   ]
  },
  {
   "cell_type": "markdown",
   "id": "24dc7391",
   "metadata": {},
   "source": [
    "### <span style=\"color:blue\"> **Conditionals** </span>"
   ]
  },
  {
   "cell_type": "markdown",
   "id": "10a99598",
   "metadata": {},
   "source": [
    "Sometimes we want to execute different code based on different conditions. A common example of this (as you saw in the slides) is for printing different grades based on the score that was achieved. They are generally simple by themselves, but are often used in for or while loops, and can become complex by using many conditions. The below is long, silly example of if statements just to show some of what can be done and some potential pitfalls."
   ]
  },
  {
   "cell_type": "markdown",
   "id": "d80d8504",
   "metadata": {},
   "source": [
    "#### **Exercise 1: Determine the min and max value**"
   ]
  },
  {
   "cell_type": "markdown",
   "id": "acf6ef36",
   "metadata": {},
   "source": [
    "You need to write a program that asks the user for two floats (floating point numbers/decimals), and then determine which one is the minimum and which one is the maximum."
   ]
  },
  {
   "cell_type": "code",
   "execution_count": 1,
   "id": "deadfd8e",
   "metadata": {},
   "outputs": [
    {
     "name": "stdin",
     "output_type": "stream",
     "text": [
      "Please input a number (can be decimals):  3\n",
      "Please input a number (can be decimals):  5\n"
     ]
    },
    {
     "name": "stdout",
     "output_type": "stream",
     "text": [
      "The two numbers given were 3.0 & 5.0\n",
      "The maximum is: 5.0\n",
      "The minimum is: 3.0\n"
     ]
    }
   ],
   "source": [
    "a = float(input(\"Please input a number (can be decimals): \"))\n",
    "b = float(input(\"Please input a number (can be decimals): \"))\n",
    "\n",
    "if a < b:\n",
    "    min_val = a\n",
    "    max_val = b\n",
    "else:\n",
    "    min_val = b\n",
    "    max_val = a\n",
    "\n",
    "print(\"The two numbers given were\",a,\"&\",b)\n",
    "print(\"The maximum is:\",max_val)\n",
    "print(\"The minimum is:\",min_val)"
   ]
  },
  {
   "cell_type": "markdown",
   "id": "5e885fe6",
   "metadata": {},
   "source": [
    "### <span style=\"color:blue\"> **Lists** </span>  "
   ]
  },
  {
   "cell_type": "markdown",
   "id": "c6444774",
   "metadata": {},
   "source": [
    "Before an exercise, we'll just cover some material and play around with lists first. A list is just something we can use to store other objects, including more lists. It's incredibly flexible and is used a lot. One thing to keep in mind is that usually a list contains items of a single data type. In Python, you can have a list that has, for example, numbers and strings, but if you are doing this then you need to re-think your code (and in most other languages this is not even allowed!).\n",
    "\n",
    "Let's create some lists that we will play around with:"
   ]
  },
  {
   "cell_type": "code",
   "execution_count": 3,
   "id": "426a29e8",
   "metadata": {},
   "outputs": [],
   "source": [
    "# Numbers in a list\n",
    "list_a = [1,2,3,4]\n",
    "# A list of strings\n",
    "list_b = ['strings', 'in', 'a', 'list']\n",
    "# A list of lists, each sublist with numbers\n",
    "list_c = [[1,2,3],[4,5,6],[7,8,9]]\n",
    "# An empty list to use later\n",
    "list_d = []\n",
    "\n",
    "# A range converted in a list \n",
    "list_e = list(range(10))"
   ]
  },
  {
   "cell_type": "markdown",
   "id": "126aef1e",
   "metadata": {},
   "source": [
    "Note that none of the lists here are called \"list\". This is because, as we can see in the last line, list is actually a built-in function, just like print or input. If we name a variable \"list\", it will overwrite this function and we won't have access to it anymore until we restart the program. While I don't recommend this, if you want to try this and see why it causes problems, type print=\"test\". You'll find yourself no longer able to print anything! Until you know most of the functions this can be an easy mistake to make, but can be easily avoided by using more than one word to name a variable. You will need to keep this in mind when we start writing our own functions next week.\n",
    "\n",
    "Lists have the useful property that they are mutable, so we can add items, remove items freely. Note that this can also be a problem as you can accidentally change a list - such as modifying a list during a for loop.\n",
    "\n",
    "Using the variables/lists above, what output would you expect from the statements below? If you're not sure, try to guess, then try it out and see if you were right. "
   ]
  },
  {
   "cell_type": "markdown",
   "id": "0ec0e646-80dd-4f96-b826-6c0292150e92",
   "metadata": {},
   "source": [
    "##### Adding items to a list"
   ]
  },
  {
   "cell_type": "code",
   "execution_count": 7,
   "id": "d44a5b6f-293c-4294-a27a-730e8ea5deb8",
   "metadata": {},
   "outputs": [
    {
     "name": "stdout",
     "output_type": "stream",
     "text": [
      "[0, 1, 2, 3, 4, 5, 6]\n"
     ]
    }
   ],
   "source": [
    "\n",
    "list_a.append(5)\n",
    "list_a.insert(0,0)\n",
    "list_a += [6]\n",
    "print(list_a)"
   ]
  },
  {
   "cell_type": "markdown",
   "id": "d4c53135-a996-4c13-bab6-3eeeb1049f76",
   "metadata": {},
   "source": [
    "##### Removing items"
   ]
  },
  {
   "cell_type": "code",
   "execution_count": 10,
   "id": "a969c0b5-6c46-4e32-b811-9fd1509fa1aa",
   "metadata": {},
   "outputs": [
    {
     "name": "stdout",
     "output_type": "stream",
     "text": [
      "['a', 'list']\n"
     ]
    }
   ],
   "source": [
    "list_b.remove('in')\n",
    "del(list_b[0])\n",
    "print(list_b)"
   ]
  },
  {
   "cell_type": "markdown",
   "id": "aa5149a9-2dcc-4d55-980d-6b76cc22910c",
   "metadata": {},
   "source": [
    "##### Length of a list"
   ]
  },
  {
   "cell_type": "code",
   "execution_count": 13,
   "id": "3bc4b854-0372-453f-a3db-e1d8f9e39887",
   "metadata": {},
   "outputs": [
    {
     "name": "stdout",
     "output_type": "stream",
     "text": [
      "3\n",
      "3\n"
     ]
    }
   ],
   "source": [
    "print(len(list_c))\n",
    "# Length of a sublist\n",
    "print(len(list_c[0]))"
   ]
  },
  {
   "cell_type": "markdown",
   "id": "092dde9d-5b8e-4b60-b0ab-644fa45bfbd9",
   "metadata": {},
   "source": [
    "##### Finding where something is in a list"
   ]
  },
  {
   "cell_type": "code",
   "execution_count": 16,
   "id": "75737727-f40d-4c17-80fb-6cd261a42621",
   "metadata": {},
   "outputs": [
    {
     "name": "stdout",
     "output_type": "stream",
     "text": [
      "1\n"
     ]
    }
   ],
   "source": [
    "print(list_a.index(1))"
   ]
  },
  {
   "cell_type": "code",
   "execution_count": 18,
   "id": "7540a78f-8ad4-4125-bfeb-2059e1b36bb6",
   "metadata": {},
   "outputs": [
    {
     "ename": "ValueError",
     "evalue": "1 is not in list",
     "output_type": "error",
     "traceback": [
      "\u001b[0;31m---------------------------------------------------------------------------\u001b[0m",
      "\u001b[0;31mValueError\u001b[0m                                Traceback (most recent call last)",
      "Cell \u001b[0;32mIn[18], line 1\u001b[0m\n\u001b[0;32m----> 1\u001b[0m \u001b[38;5;28mprint\u001b[39m(\u001b[43mlist_c\u001b[49m\u001b[38;5;241;43m.\u001b[39;49m\u001b[43mindex\u001b[49m\u001b[43m(\u001b[49m\u001b[38;5;241;43m1\u001b[39;49m\u001b[43m)\u001b[49m)\n",
      "\u001b[0;31mValueError\u001b[0m: 1 is not in list"
     ]
    }
   ],
   "source": [
    "print(list_c.index(1)) # Careful!"
   ]
  },
  {
   "cell_type": "markdown",
   "id": "a56aaeaa-2c5d-4c25-82f0-e41504c2a955",
   "metadata": {},
   "source": [
    "The error occurs because the index() method is looking for the element 1 in the top-level list list_c, but 1 is not an element of list_c. Instead, list_c contains three sublists: [1, 2, 3], [4, 5, 6], and [7, 8, 9]. The element 1 is within the first sublist, not in the top-level list."
   ]
  },
  {
   "cell_type": "markdown",
   "id": "1edba262-696d-409f-b125-dff3725751cc",
   "metadata": {},
   "source": [
    "##### Moving items around"
   ]
  },
  {
   "cell_type": "code",
   "execution_count": 22,
   "id": "4c036a4c-0247-4420-b386-2e4f4b6d0577",
   "metadata": {},
   "outputs": [
    {
     "name": "stdout",
     "output_type": "stream",
     "text": [
      "[0, 1, 2, 3, 4, 5, 6]\n"
     ]
    }
   ],
   "source": [
    "list_a.sort()\n",
    "print(list_a)"
   ]
  },
  {
   "cell_type": "code",
   "execution_count": 24,
   "id": "a9480a83-0b90-4cc2-a80e-f7ba76edc3c3",
   "metadata": {},
   "outputs": [
    {
     "name": "stdout",
     "output_type": "stream",
     "text": [
      "[6, 5, 4, 3, 2, 1, 0]\n"
     ]
    }
   ],
   "source": [
    "list_a.sort(reverse=True)\n",
    "print(list_a)"
   ]
  },
  {
   "cell_type": "code",
   "execution_count": 26,
   "id": "fe4757d4-25ff-44ec-9a32-b53a7fdcfc04",
   "metadata": {},
   "outputs": [
    {
     "name": "stdout",
     "output_type": "stream",
     "text": [
      "[0, 1, 2, 3, 4, 5, 6]\n"
     ]
    }
   ],
   "source": [
    "list_a.reverse()\n",
    "print(list_a)"
   ]
  },
  {
   "cell_type": "markdown",
   "id": "d6181469-1682-4964-87e7-3e1f4fcd05c0",
   "metadata": {},
   "source": [
    "##### Append vs extend"
   ]
  },
  {
   "cell_type": "code",
   "execution_count": 29,
   "id": "a03e4234-f778-4b0b-8a04-2a7ac68ab0d3",
   "metadata": {},
   "outputs": [
    {
     "name": "stdout",
     "output_type": "stream",
     "text": [
      "[1]\n"
     ]
    }
   ],
   "source": [
    "list_d.append(1) # Append a single number\n",
    "print(list_d)"
   ]
  },
  {
   "cell_type": "code",
   "execution_count": 31,
   "id": "1486f96f-f3c0-4b13-b841-b04fbbd2b62b",
   "metadata": {},
   "outputs": [
    {
     "name": "stdout",
     "output_type": "stream",
     "text": [
      "[1, 1]\n"
     ]
    }
   ],
   "source": [
    "list_d.append(1) # Append a single number\n",
    "print(list_d)"
   ]
  },
  {
   "cell_type": "code",
   "execution_count": 33,
   "id": "7f375452-b6c6-4fbe-a1f5-211173daf8a0",
   "metadata": {},
   "outputs": [
    {
     "name": "stdout",
     "output_type": "stream",
     "text": [
      "[1, 1, [7, 2]]\n"
     ]
    }
   ],
   "source": [
    "list_d.append([7,2]) # Append using a list of 2 numbers\n",
    "print(list_d)"
   ]
  },
  {
   "cell_type": "code",
   "execution_count": 35,
   "id": "e6fba9de-58ec-4042-98d7-41878006348e",
   "metadata": {},
   "outputs": [
    {
     "name": "stdout",
     "output_type": "stream",
     "text": [
      "[1, 1, [7, 2], 3, 5]\n"
     ]
    }
   ],
   "source": [
    "list_d.extend([3,5]) # Extend using a list of 2 numbers\n",
    "print(list_d)"
   ]
  },
  {
   "cell_type": "markdown",
   "id": "d00cf08a-6dc6-4373-9fdd-e79eac14e929",
   "metadata": {},
   "source": [
    "##### Slicing"
   ]
  },
  {
   "cell_type": "code",
   "execution_count": 38,
   "id": "3859c4cd-623a-46d0-903a-95d995edefce",
   "metadata": {},
   "outputs": [
    {
     "name": "stdout",
     "output_type": "stream",
     "text": [
      "[0, 1, 2, 3, 4, 5, 6, 7, 8, 9]\n"
     ]
    }
   ],
   "source": [
    "print(list_e[:])"
   ]
  },
  {
   "cell_type": "code",
   "execution_count": 40,
   "id": "eea98883-c7c3-4283-a329-9d73c447d01b",
   "metadata": {},
   "outputs": [
    {
     "name": "stdout",
     "output_type": "stream",
     "text": [
      "[0, 1, 2, 3, 4]\n"
     ]
    }
   ],
   "source": [
    "print(list_e[:5])"
   ]
  },
  {
   "cell_type": "code",
   "execution_count": 42,
   "id": "3f4ad239-b242-48f3-bdc7-93702cb8a5e5",
   "metadata": {},
   "outputs": [
    {
     "name": "stdout",
     "output_type": "stream",
     "text": [
      "[5, 6, 7, 8, 9]\n"
     ]
    }
   ],
   "source": [
    "print(list_e[5:])"
   ]
  },
  {
   "cell_type": "code",
   "execution_count": 44,
   "id": "47e8eb85-9c83-4e64-a6ca-8499762ca3f7",
   "metadata": {},
   "outputs": [
    {
     "name": "stdout",
     "output_type": "stream",
     "text": [
      "9\n"
     ]
    }
   ],
   "source": [
    "print(list_e[-1])"
   ]
  },
  {
   "cell_type": "markdown",
   "id": "35b0efa4-695d-4d60-9dc3-1cc389faf14d",
   "metadata": {},
   "source": [
    "##### Modifying items in a list"
   ]
  },
  {
   "cell_type": "code",
   "execution_count": 47,
   "id": "2e84e278-3751-47ab-bc78-541ebeccea1b",
   "metadata": {},
   "outputs": [
    {
     "name": "stdout",
     "output_type": "stream",
     "text": [
      "[0, 1, 0, 1, 2, 3, 4, 5, 6, 7, 8, 9]\n"
     ]
    }
   ],
   "source": [
    "list_e[:2] *= 2 # This is why we need to be careful multiplying lists/other objects\n",
    "print(list_e)"
   ]
  },
  {
   "cell_type": "code",
   "execution_count": 49,
   "id": "3532ee5a-f19a-4855-a28e-8b8ad924a110",
   "metadata": {},
   "outputs": [
    {
     "name": "stdout",
     "output_type": "stream",
     "text": [
      "[0, 1, 2, 3, 4, 5, 6, 7, 8, 9, 10, 11]\n"
     ]
    }
   ],
   "source": [
    "list_e[2:] = list(range(2,12)) # Replace items in a list\n",
    "print(list_e)"
   ]
  },
  {
   "cell_type": "markdown",
   "id": "6f2b759f",
   "metadata": {},
   "source": [
    "That's quite a few things, but practice is key. More can be done with lists but if you're comfortable with the above that's great!"
   ]
  },
  {
   "cell_type": "markdown",
   "id": "4fbd6acb",
   "metadata": {},
   "source": [
    "### <span style=\"color:blue\"> **For Loops** </span>  "
   ]
  },
  {
   "cell_type": "markdown",
   "id": "dd9a2efc",
   "metadata": {},
   "source": [
    "These are used to iterate over something, and so we know in advance how many times we go through the loop. They are very closely linked with lists, as the two are used together very often.\n",
    "\n",
    "As we did with lists, we'll go over a few examples that you should first try to guess the output, and then type them in and try them out. As these loops will require more than one line, it may be better to do this in a script than in the console."
   ]
  },
  {
   "cell_type": "code",
   "execution_count": 54,
   "id": "7ca1b93a-e471-4245-a3c7-e5a1136afeba",
   "metadata": {},
   "outputs": [
    {
     "name": "stdout",
     "output_type": "stream",
     "text": [
      "0\n",
      "1\n",
      "2\n",
      "3\n",
      "4\n"
     ]
    }
   ],
   "source": [
    "# Simple for loop\n",
    "for i in range(5):\n",
    "    print(i)"
   ]
  },
  {
   "cell_type": "code",
   "execution_count": 56,
   "id": "4d050a1d-534b-4203-baac-f3235dfcf809",
   "metadata": {},
   "outputs": [
    {
     "name": "stdout",
     "output_type": "stream",
     "text": [
      "1\n",
      "3\n",
      "5\n",
      "7\n",
      "9\n"
     ]
    }
   ],
   "source": [
    "# Range can have more uses\n",
    "# It can take the form range(start, stop, step)\n",
    "for i in range(1, 11, 2):\n",
    "    print(i)   "
   ]
  },
  {
   "cell_type": "code",
   "execution_count": 58,
   "id": "046420cf-bbcb-4f67-873a-2d5c4eb6dfde",
   "metadata": {},
   "outputs": [
    {
     "name": "stdout",
     "output_type": "stream",
     "text": [
      "text\n",
      "to\n",
      "print\n"
     ]
    }
   ],
   "source": [
    "# Loop over a list of strings\n",
    "for text_var in [\"text\", \"to\", \"print\"]:\n",
    "    print(text_var)"
   ]
  },
  {
   "cell_type": "code",
   "execution_count": 60,
   "id": "ccda831a-7021-4113-88ce-42eec552aa4d",
   "metadata": {},
   "outputs": [
    {
     "name": "stdout",
     "output_type": "stream",
     "text": [
      "number 0\n",
      "number 1\n",
      "number 2\n",
      "number 3\n"
     ]
    }
   ],
   "source": [
    "# enumerate is a very useful function! It allows us to get a counter (i), and the value (text_var)\n",
    "for i, text_var in enumerate([\"number\"]*4):\n",
    "    print(text_var, i)\n"
   ]
  },
  {
   "cell_type": "code",
   "execution_count": 62,
   "id": "a30f88ed-9142-481d-b149-f2fe4f5f980d",
   "metadata": {},
   "outputs": [
    {
     "name": "stdout",
     "output_type": "stream",
     "text": [
      "0 0\n",
      "1 1\n",
      "3 2\n",
      "6 3\n",
      "10 4\n",
      "Final: 10 4\n"
     ]
    }
   ],
   "source": [
    "# Assignment in and outside a for loop\n",
    "a = 0\n",
    "for i in range(5):\n",
    "    b = 0\n",
    "    a += i\n",
    "    b += i\n",
    "    print(a, b)\n",
    "print(\"Final:\", a, b)"
   ]
  },
  {
   "cell_type": "code",
   "execution_count": 64,
   "id": "e101b644-d3b0-4239-bc63-809d1360840f",
   "metadata": {},
   "outputs": [
    {
     "name": "stdout",
     "output_type": "stream",
     "text": [
      "1\n",
      "[2, 3, 4, 5]\n",
      "3\n",
      "[2, 4, 5]\n",
      "5\n",
      "[2, 4]\n"
     ]
    }
   ],
   "source": [
    "# Loops and mutable objects\n",
    "a_list = [1,2,3,4,5]\n",
    "for val in a_list:\n",
    "    a_list.remove(val)\n",
    "    print(val)\n",
    "    print(a_list)"
   ]
  },
  {
   "cell_type": "code",
   "execution_count": 66,
   "id": "9aab830e",
   "metadata": {},
   "outputs": [
    {
     "name": "stdout",
     "output_type": "stream",
     "text": [
      "0\n",
      "[2, 3, 4, 5]\n",
      "1\n",
      "[2, 4, 5]\n",
      "2\n",
      "[2, 4]\n"
     ]
    }
   ],
   "source": [
    "# If you're unsure why the above happens, try this\n",
    "a_list = [1,2,3,4,5]\n",
    "for i, val in enumerate(a_list):\n",
    "    del(a_list[i])\n",
    "    print(i)\n",
    "    print(a_list)"
   ]
  },
  {
   "cell_type": "markdown",
   "id": "8306a121",
   "metadata": {},
   "source": [
    "We use i here just for convention as a counter."
   ]
  },
  {
   "cell_type": "markdown",
   "id": "2f9680b1",
   "metadata": {},
   "source": [
    "#### **Exercise 2:**"
   ]
  },
  {
   "cell_type": "markdown",
   "id": "89c5c5bf",
   "metadata": {},
   "source": [
    "Write a program that asks the user for 3 things that they are interested in, and then print those things as a list. Once you've done this, modify the script so that the user can input how many things they are interested in (instead of 3), and then afterwards print all of their interests."
   ]
  },
  {
   "cell_type": "code",
   "execution_count": 71,
   "id": "aa8af45b",
   "metadata": {},
   "outputs": [
    {
     "name": "stdin",
     "output_type": "stream",
     "text": [
      "What's something you're interested in?:  netflix\n",
      "What's something you're interested in?:  film\n",
      "What's something you're interested in?:  squash\n"
     ]
    },
    {
     "name": "stdout",
     "output_type": "stream",
     "text": [
      "['netflix', 'film', 'squash']\n"
     ]
    },
    {
     "name": "stdin",
     "output_type": "stream",
     "text": [
      "How many interests would you like to name?:  4\n",
      "What's something you're interested in?:  football\n",
      "What's something you're interested in?:  PYTHON!!!\n",
      "What's something you're interested in?:  reading\n",
      "What's something you're interested in?:  board games\n"
     ]
    },
    {
     "name": "stdout",
     "output_type": "stream",
     "text": [
      "['football', 'PYTHON!!!', 'reading', 'board games']\n"
     ]
    }
   ],
   "source": [
    "# Hard-coded, no for loop approach\n",
    "interest_1 = input(\"What's something you're interested in?: \")\n",
    "interest_2 = input(\"What's something you're interested in?: \")\n",
    "interest_3 = input(\"What's something you're interested in?: \")\n",
    "\n",
    "print([interest_1, interest_2, interest_3])\n",
    "\n",
    "# Modification so the user can define how many interests\n",
    "num_interests = input(\"How many interests would you like to name?: \")\n",
    "interests = [] # define empty list\n",
    "\n",
    "for i in range(int(num_interests)):\n",
    "    # Append the input into a list\n",
    "    # Note that we can do it this way, or split it into two lines\n",
    "    interests.append(input(\"What's something you're interested in?: \"))\n",
    "print(interests)"
   ]
  },
  {
   "cell_type": "markdown",
   "id": "e511b1f3",
   "metadata": {},
   "source": [
    "### <span style=\"color:blue\"> **While Loops** </span>    "
   ]
  },
  {
   "cell_type": "markdown",
   "id": "dc3e099c",
   "metadata": {},
   "source": [
    "While loops are used for when we want to repeat as long as some condition is True, typically for when we don't know exactly when this condition will become False."
   ]
  },
  {
   "cell_type": "markdown",
   "id": "5b52263a",
   "metadata": {},
   "source": [
    "One problem with while loops is the chance to get stuck in an infinite loop, which is where the while loop never exits and it continues forever. Sometimes you can close the program (such as Spyder) and it's OK, other times you have to restart the computer. "
   ]
  },
  {
   "cell_type": "markdown",
   "id": "7bc0af1b",
   "metadata": {},
   "source": [
    "#### **Manipulating and exiting loops: continue and break**"
   ]
  },
  {
   "cell_type": "markdown",
   "id": "d25c7fb8",
   "metadata": {},
   "source": [
    "These are two very useful ways of changing how loops work. They are used alongside an if statement. We use break to exit a (for or while) loop, and continue is used to skip everything else in the block and go back to the start of the next iteration of the loop. Try to think about what the following two segments of code would output before running them."
   ]
  },
  {
   "cell_type": "code",
   "execution_count": 74,
   "id": "d21bc212",
   "metadata": {},
   "outputs": [
    {
     "name": "stdout",
     "output_type": "stream",
     "text": [
      "P\n",
      "Y\n",
      "T\n",
      "H\n",
      "O\n",
      "N\n",
      "1\n",
      "3\n",
      "5\n",
      "7\n",
      "9\n"
     ]
    }
   ],
   "source": [
    "# Using continue and break in a for loop\n",
    "for letter in \"aPaYaTaHaOaN_TEXT\":\n",
    "    if letter == \"a\":\n",
    "        continue\n",
    "    if letter == \"_\":\n",
    "        break\n",
    "    print(letter)\n",
    "\n",
    "# Skip certain numbers in the while loop\n",
    "n = 0\n",
    "while n < 10:\n",
    "    n += 1\n",
    "    if n % 2 == 0:\n",
    "        continue\n",
    "    print(n)"
   ]
  },
  {
   "cell_type": "markdown",
   "id": "5c7bbef4",
   "metadata": {},
   "source": [
    "#### **Exercise 3:**"
   ]
  },
  {
   "cell_type": "markdown",
   "id": "cdeadfd3",
   "metadata": {},
   "source": [
    "Write a program that iterates over the numbers from 1 to 30 (inclusive). For every multiple of 3, the program must print Richard. For every multiple of 5, the program must print Max. For every number that is a multiple of both, print Cameron. Note that some may find this difficult, but breaking the problem down into little steps and seeing what output you get is vital.\n",
    "\n",
    "I won't show the whole expected output, but here's the first half: \n",
    "    \n",
    "1  \n",
    "2  \n",
    "Richard  \n",
    "4  \n",
    "Max  \n",
    "Richard  \n",
    "7  \n",
    "8  \n",
    "Richard  \n",
    "Max  \n",
    "11  \n",
    "Richard  \n",
    "13  \n",
    "14  \n",
    "Cameron  "
   ]
  },
  {
   "cell_type": "code",
   "execution_count": 76,
   "id": "61f46f16",
   "metadata": {
    "scrolled": true
   },
   "outputs": [
    {
     "name": "stdout",
     "output_type": "stream",
     "text": [
      "1\n",
      "2\n",
      "Richard\n",
      "4\n",
      "Max\n",
      "Richard\n",
      "7\n",
      "8\n",
      "Richard\n",
      "Max\n",
      "11\n",
      "Richard\n",
      "13\n",
      "14\n",
      "Cameron\n",
      "16\n",
      "17\n",
      "Richard\n",
      "19\n",
      "Max\n",
      "Richard\n",
      "22\n",
      "23\n",
      "Richard\n",
      "Max\n",
      "26\n",
      "Richard\n",
      "28\n",
      "29\n",
      "Cameron\n"
     ]
    }
   ],
   "source": [
    "# Loop over the range (needs to be 31 as range isn't inclusive)\n",
    "for num in range(1,31):\n",
    "    # First check if both conditions are met \n",
    "    # Note that this must be checked first\n",
    "    if num % 3 == 0 and num % 5 == 0:\n",
    "        print(\"Cameron\")\n",
    "    # Otherwise check if it's a multiple of 3\n",
    "    elif num % 3 == 0:\n",
    "        print(\"Richard\")\n",
    "    # Or if it's a multiple of 3\n",
    "    elif num % 5 == 0:\n",
    "        print(\"Max\")\n",
    "    # Else just print the number\n",
    "    else:\n",
    "        print(num)"
   ]
  },
  {
   "cell_type": "markdown",
   "id": "8105bdee",
   "metadata": {},
   "source": [
    "### <span style=\"color:blue\"> **Dictionaries** </span> "
   ]
  },
  {
   "cell_type": "markdown",
   "id": "9761b034",
   "metadata": {},
   "source": [
    "A dictionary is a set of key:value pairs, where the keys are unique identifiers that map to their respective values. These values can be of any type (including another dictionary!)."
   ]
  },
  {
   "cell_type": "code",
   "execution_count": 78,
   "id": "8447967e",
   "metadata": {},
   "outputs": [
    {
     "name": "stdout",
     "output_type": "stream",
     "text": [
      "{'names': ['Richard', 'Max', 'Cameron']}\n"
     ]
    }
   ],
   "source": [
    "# Create an empty dict\n",
    "people = {}\n",
    "# Create a key 'names' in the dict, with an empty list\n",
    "people['names'] = []\n",
    "# Define some names\n",
    "names = [\"Richard\", \"Max\", \"Cameron\"]\n",
    "\n",
    "for name in names:\n",
    "    people['names'].append(name)\n",
    "print(people)"
   ]
  },
  {
   "cell_type": "markdown",
   "id": "3eeff8e8",
   "metadata": {},
   "source": [
    "The importance of using dictionaries effectively is deciding what to use as keys and what to use as values. We can then use this structure to quickly and easily select groups of data by using loops and conditions."
   ]
  },
  {
   "cell_type": "markdown",
   "id": "971774d5",
   "metadata": {},
   "source": [
    "#### **Exercise 4:**"
   ]
  },
  {
   "cell_type": "markdown",
   "id": "34617ec0",
   "metadata": {},
   "source": [
    "Create a dictionary where the key is the name of the person, and the value is another dictionary where there are two keys \"city\" and \"country\" where that person is from. You need to use at least three people for this. You do not need to use input for this, though you can if you want. You should do this using a loop. Some example data is below for you:"
   ]
  },
  {
   "cell_type": "code",
   "execution_count": 9,
   "id": "f989c4e5",
   "metadata": {},
   "outputs": [],
   "source": [
    "names = [\"Richard\", \"Max\", \"Cameron\"]  \n",
    "cities = [\"Karlsruhe\", \"Cadiz\", \"London\"]  \n",
    "countries = [\"Germany\", \"Spain\", \"UK\"]  "
   ]
  },
  {
   "cell_type": "markdown",
   "id": "e632d609",
   "metadata": {},
   "source": [
    "Using the data above, the dictionary should be:  "
   ]
  },
  {
   "cell_type": "code",
   "execution_count": 83,
   "id": "888c79a4",
   "metadata": {},
   "outputs": [],
   "source": [
    "people = {'Richard': {'city': 'Karlsruhe', 'country': 'Germany'}, 'Max': {'city': 'Cadiz', 'country': 'Spain'}, 'Cameron': {'city': 'London', 'country': 'UK'}}  "
   ]
  },
  {
   "cell_type": "code",
   "execution_count": 13,
   "id": "61348a50-d9c2-4186-bd97-a0790d49e6f3",
   "metadata": {},
   "outputs": [
    {
     "name": "stdout",
     "output_type": "stream",
     "text": [
      "{'Richard': {'city': 'Karlsruhe', 'country': 'Germany'}, 'Max': {'city': 'Cadiz', 'country': 'Spain'}, 'Cameron': {'city': 'London', 'country': 'UK'}}\n"
     ]
    }
   ],
   "source": [
    "people= {}\n",
    "for i in range(len(names)):\n",
    "    people[names[i]] = {\"city\": cities[i], \"country\": countries[i]}\n",
    "\n",
    "print(people)"
   ]
  },
  {
   "cell_type": "markdown",
   "id": "e918b953",
   "metadata": {},
   "source": [
    "If we wanted to print only the cities of the people from Germany, the code should be:"
   ]
  },
  {
   "cell_type": "code",
   "execution_count": 14,
   "id": "eb799510",
   "metadata": {},
   "outputs": [
    {
     "name": "stdout",
     "output_type": "stream",
     "text": [
      "Karlsruhe\n"
     ]
    }
   ],
   "source": [
    "for person in people.values():\n",
    "    if person['country'] == \"Germany\":\n",
    "        print(person['city'])"
   ]
  },
  {
   "cell_type": "markdown",
   "id": "9e51ce09",
   "metadata": {},
   "source": [
    "### Further Resources:"
   ]
  },
  {
   "cell_type": "markdown",
   "id": "1b3bd38b",
   "metadata": {},
   "source": [
    "[Lists](https://automatetheboringstuff.com/chapter4/) - This is a great, comprehensive page, and overall a good resource to look at  \n",
    "[Dictionaries](https://automatetheboringstuff.com/chapter5/) - Same resource as above  \n",
    "[Flow control](https://automatetheboringstuff.com/chapter2/) - Same resource as above  \n",
    "[Official Python page on these topics](https://docs.python.org/3/tutorial/datastructures.html)"
   ]
  },
  {
   "cell_type": "code",
   "execution_count": null,
   "id": "871a0d6a-ad79-4dee-ba1c-f81434208571",
   "metadata": {},
   "outputs": [],
   "source": []
  }
 ],
 "metadata": {
  "kernelspec": {
   "display_name": "Python 3 (ipykernel)",
   "language": "python",
   "name": "python3"
  },
  "language_info": {
   "codemirror_mode": {
    "name": "ipython",
    "version": 3
   },
   "file_extension": ".py",
   "mimetype": "text/x-python",
   "name": "python",
   "nbconvert_exporter": "python",
   "pygments_lexer": "ipython3",
   "version": "3.10.14"
  }
 },
 "nbformat": 4,
 "nbformat_minor": 5
}
