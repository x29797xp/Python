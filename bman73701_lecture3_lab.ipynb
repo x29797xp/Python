{
 "cells": [
  {
   "cell_type": "markdown",
   "id": "3969d8e8",
   "metadata": {},
   "source": [
    "## **Programming in Python for Business Analytics (BMAN73701)**"
   ]
  },
  {
   "cell_type": "markdown",
   "id": "3b33209b",
   "metadata": {},
   "source": [
    "### **Lab Session: Lecutre 3 - Functions, Modules, and Exceptions**"
   ]
  },
  {
   "cell_type": "markdown",
   "id": "bdd7a3f6",
   "metadata": {},
   "source": [
    "### <span style=\"color:blue\"> **Functions** </span>  "
   ]
  },
  {
   "cell_type": "markdown",
   "id": "475d016b",
   "metadata": {},
   "source": [
    "Simply put, functions are incredibly useful. They allow us to break down a program into re-usable, simple components. This allows us to bring together different combinations of functions to create code to solve complex tasks, in a way that ensures that the code can be read easily and maintained well.\n",
    "\n",
    "You've already come across a lot of functions, one of the most common ones is the print function. The objects that you pass into a function are called arguments. Generally, you should pass whatever variables that the function uses into the function as arguments.\n",
    "\n",
    "There are various kinds of arguments, which can add to the flexibility of a function. If we look at the [definition of the print function](https://docs.python.org/3/library/functions.html#print), then we can see some different types of arguments. The definition is as follows:"
   ]
  },
  {
   "cell_type": "markdown",
   "id": "ae4a42f2-d04d-4707-9ad7-1e9cf0925469",
   "metadata": {},
   "source": [
    "print(*objects, sep=' ', end='\\n', file=sys.stdout, flush=False)"
   ]
  },
  {
   "cell_type": "markdown",
   "id": "b750c176",
   "metadata": {},
   "source": [
    "You do not need to understand what all of it means right now, but I'll explain it here. The first argument, *objects, means the print function accepts any number of objects as arguments (using * means it can take any number of arguments, which is why when you use the print function you can pass in as many objects separated by commas as you wish). \n",
    "\n",
    "Let's modify the default values of some arguments now."
   ]
  },
  {
   "cell_type": "code",
   "execution_count": 1,
   "id": "98a50e98",
   "metadata": {},
   "outputs": [
    {
     "name": "stdout",
     "output_type": "stream",
     "text": [
      "3 5 7\n",
      "3 and 5 and 7\n",
      "3 5 7 everything has been printed!"
     ]
    }
   ],
   "source": [
    "a = 3\n",
    "b = 5\n",
    "c = 7\n",
    "\n",
    "print(a,b,c)\n",
    "# Modify the separator argument\n",
    "print(a,b,c, sep = ' and ')\n",
    "# Modify the end argument\n",
    "print(a,b,c, end = ' everything has been printed!')"
   ]
  },
  {
   "cell_type": "markdown",
   "id": "319be140",
   "metadata": {},
   "source": [
    "This can be useful if you want to make the output from print look different. Many functions have arguments with default values - you will need to look up the function definition to find these.\n",
    "\n",
    "Before we get onto the exercises, a couple more things to be aware of. First, consider the following function:"
   ]
  },
  {
   "cell_type": "code",
   "execution_count": 2,
   "id": "f96325b5",
   "metadata": {},
   "outputs": [
    {
     "name": "stdout",
     "output_type": "stream",
     "text": [
      "3 5\n"
     ]
    },
    {
     "data": {
      "text/plain": [
       "4.0"
      ]
     },
     "execution_count": 2,
     "metadata": {},
     "output_type": "execute_result"
    }
   ],
   "source": [
    "def midpoint(a,b):\n",
    "    print(a,b)\n",
    "    return (a+b)/2\n",
    "\n",
    "c = 3\n",
    "d = 5\n",
    "\n",
    "midpoint(c,d)"
   ]
  },
  {
   "cell_type": "markdown",
   "id": "46e3432b",
   "metadata": {},
   "source": [
    "The name of the variable being passed in does not need to match the name of the argument (though it helps for readability). The order of arguments is important, unless you use keyword arguments (as then you are saying directly that the argument a is equal to the variable c), otherwise it assigns whatever is given first as a, and second as b. We will learn keyword argument in lecture 5."
   ]
  },
  {
   "cell_type": "code",
   "execution_count": 3,
   "id": "f4ab0b17-2ec7-4f5f-b8cc-039b27d647de",
   "metadata": {},
   "outputs": [
    {
     "name": "stdout",
     "output_type": "stream",
     "text": [
      "5 3\n",
      "4.0\n"
     ]
    }
   ],
   "source": [
    "print(midpoint(d,c))"
   ]
  },
  {
   "cell_type": "markdown",
   "id": "77c0464a",
   "metadata": {},
   "source": [
    "Scoping is the concept that variables only exist in a particular area. In the above example, if you tried to print a or b outside the function you'd get an error, as they are only defined within the function. The two variables we defined, c and d, are global variables and so can be seen by the function (you can test this by trying to print either c or d in the midpoint function)."
   ]
  },
  {
   "cell_type": "markdown",
   "id": "5e5e92db",
   "metadata": {},
   "source": [
    "### <span style=\"color:blue\"> **Exceptions & Error Handling** </span> "
   ]
  },
  {
   "cell_type": "markdown",
   "id": "304b7d9e",
   "metadata": {},
   "source": [
    "Programs have errors. This is a fact of life, and it cannot be avoided. Sometimes, however, we can use these errors to our advantage. We can catch errors that we expect to get, and even ones that we don't! We can use these to provide the user specific information as to what the problem might be, and we could even try to fix the problem and continue running the program. After all, if you've been running an experiment for a week, and know that sometimes a certain error comes up, wouldn't you rather deal with it then rather than waste a whole week re-running the program?  \n",
    "\n",
    "Take the example from the lecture:"
   ]
  },
  {
   "cell_type": "code",
   "execution_count": 4,
   "id": "f69194ce",
   "metadata": {},
   "outputs": [
    {
     "name": "stdin",
     "output_type": "stream",
     "text": [
      "Please provide a numnber:  0\n"
     ]
    },
    {
     "name": "stdout",
     "output_type": "stream",
     "text": [
      "Can't divide by 0\n",
      "Something happened...who knows what!\n"
     ]
    }
   ],
   "source": [
    "try:\n",
    "    x = float(input(\"Please provide a numnber: \"))\n",
    "    inverse = 1/x\n",
    "    print(inverse)\n",
    "except ValueError:\n",
    "    print(\"Incorrect type\")\n",
    "except ZeroDivisionError:\n",
    "    print(\"Can't divide by 0\")\n",
    "finally:\n",
    "    # This code is run no matter what\n",
    "    print(\"Something happened...who knows what!\")"
   ]
  },
  {
   "cell_type": "markdown",
   "id": "5acb4e6f",
   "metadata": {},
   "source": [
    "This has allowed us to capture some different error types, and we can still carry on and execute code regardless. We may have an example where, it a situation like this, we just say inverse = 0 and carry on.\n",
    "\n",
    "Something else we can do is to check the type of an object. An easy way to do this is with the *isinstance* function. It can be used to check whether an object is of any number of types, as seen below:"
   ]
  },
  {
   "cell_type": "code",
   "execution_count": 5,
   "id": "b61d3a98",
   "metadata": {},
   "outputs": [
    {
     "name": "stdout",
     "output_type": "stream",
     "text": [
      "It's a number!\n",
      "It's a number!\n",
      "It's a string!\n",
      "I'm not sure what it is...\n"
     ]
    }
   ],
   "source": [
    "a = 4\n",
    "b = 5.3\n",
    "c = \"a string\"\n",
    "d = None\n",
    "\n",
    "def check_var(var):\n",
    "    if isinstance(var, (int,float)):\n",
    "        print(\"It's a number!\")\n",
    "    elif isinstance(var, str):\n",
    "        print(\"It's a string!\")\n",
    "    else:\n",
    "        print(\"I'm not sure what it is...\")\n",
    "        \n",
    "check_var(a)\n",
    "check_var(b)\n",
    "check_var(c)\n",
    "check_var(d)"
   ]
  },
  {
   "cell_type": "markdown",
   "id": "e2a36875",
   "metadata": {},
   "source": [
    "This can be useful so that you can check if a variable is of a certain type, and then do different things based on what type it is."
   ]
  },
  {
   "cell_type": "markdown",
   "id": "45a682be",
   "metadata": {},
   "source": [
    "### **Exercise 1: Computing the factorial**"
   ]
  },
  {
   "cell_type": "markdown",
   "id": "78080121",
   "metadata": {},
   "source": [
    "Create a function to calculate the factorial of a number using a loop instead. Call this function iterative_factorial(n). Then, extend the function to print out a suitable error message if n is not an integer.\n",
    "\n",
    "The factorial of a number 𝑛 is the product of all positive integers less than or equal to 𝑛. It's denoted as n!=n×(n−1)×(n−2)×⋯×1"
   ]
  },
  {
   "cell_type": "code",
   "execution_count": null,
   "id": "d2cfd8e0-ff61-4bf8-ba61-d6ee52df8e9b",
   "metadata": {},
   "outputs": [],
   "source": [
    "# You answer here......\n",
    "\n",
    "\n",
    "\n",
    "\n",
    "\n",
    "\n",
    "\n",
    "\n",
    "\n"
   ]
  },
  {
   "cell_type": "code",
   "execution_count": 6,
   "id": "1a1f8192",
   "metadata": {},
   "outputs": [
    {
     "name": "stdout",
     "output_type": "stream",
     "text": [
      "120\n"
     ]
    }
   ],
   "source": [
    "print(iterative_factorial(5))"
   ]
  },
  {
   "cell_type": "code",
   "execution_count": 7,
   "id": "555e370b-31ab-4859-a6b7-9df29e879345",
   "metadata": {},
   "outputs": [
    {
     "name": "stdout",
     "output_type": "stream",
     "text": [
      "5.0 is not an integer\n",
      "None\n"
     ]
    }
   ],
   "source": [
    "print(iterative_factorial(5.0))"
   ]
  },
  {
   "cell_type": "code",
   "execution_count": 8,
   "id": "29b9ec2c-f9f8-4ac2-9cbd-a548783a9b21",
   "metadata": {},
   "outputs": [
    {
     "name": "stdout",
     "output_type": "stream",
     "text": [
      "5.0 is not an integer\n",
      "None\n"
     ]
    }
   ],
   "source": [
    "print(iterative_factorial(\"5.0\"))"
   ]
  },
  {
   "cell_type": "markdown",
   "id": "e7041c03",
   "metadata": {},
   "source": [
    "### **Exercise 2: Recursive function to compute product of odd items in a list**"
   ]
  },
  {
   "cell_type": "markdown",
   "id": "fec8f7b0",
   "metadata": {},
   "source": [
    "Create a function that computes the product across items in odd position of a list using a recursive function. For example, for a list [3,5,1,2,6,3] the function should compute the product $3*1*6=18$. If the input to the function is an empty list, then return 0."
   ]
  },
  {
   "cell_type": "code",
   "execution_count": 9,
   "id": "280340b3",
   "metadata": {},
   "outputs": [
    {
     "name": "stdout",
     "output_type": "stream",
     "text": [
      "18\n"
     ]
    }
   ],
   "source": [
    "# Your answer here ......\n",
    "\n",
    "\n",
    "\n",
    "\n",
    "\n",
    "\n",
    "\n",
    "\n",
    "\n",
    "\n"
   ]
  },
  {
   "cell_type": "markdown",
   "id": "68613b68",
   "metadata": {},
   "source": [
    "### **Exercise 3: Detect vowels in phrases**"
   ]
  },
  {
   "cell_type": "markdown",
   "id": "d0db5973",
   "metadata": {},
   "source": [
    "Create a function that prints out the sequence of vowels occuring in any given phrase. Note that you can do this in one or two functions. We are using {a, e, i, o, u, A, E, I, O, U} as the set of vowels. Test your code using the following strings: \n",
    "\n",
    "\"Tom the rAt\"  \n",
    "\"HeLlO wOrLd!\"  \n",
    "\"gfdy\"  "
   ]
  },
  {
   "cell_type": "code",
   "execution_count": null,
   "id": "a005370d-75c5-4f51-9df8-96a832bb0d53",
   "metadata": {},
   "outputs": [],
   "source": [
    "# Your answer here .....\n",
    "\n",
    "\n",
    "\n",
    "\n",
    "\n",
    "\n",
    "\n",
    "\n",
    "\n",
    "\n"
   ]
  },
  {
   "cell_type": "code",
   "execution_count": 10,
   "id": "2b6c7140",
   "metadata": {},
   "outputs": [
    {
     "name": "stdout",
     "output_type": "stream",
     "text": [
      "oeA\n",
      "eOO\n",
      "\n"
     ]
    }
   ],
   "source": [
    "print(extract_vowels(\"Tom the rAt\"))\n",
    "print(extract_vowels(\"HeLlO wOrLd!\"))\n",
    "print(extract_vowels(\"gfdy\"))"
   ]
  },
  {
   "cell_type": "markdown",
   "id": "6639dfd1-6a77-4be1-9006-65bf5ca8da02",
   "metadata": {},
   "source": [
    "### Further Resources:"
   ]
  },
  {
   "cell_type": "markdown",
   "id": "ca995877-85e7-4017-874b-3381fa2b84c2",
   "metadata": {},
   "source": [
    "[Official Python intro to functions](https://docs.python.org/3/tutorial/controlflow.html#defining-functions) \n",
    "\n",
    "[As above for modules](https://docs.python.org/3/tutorial/modules.html) \n",
    "\n",
    "[As above for errors/exceptions](https://docs.python.org/3/tutorial/errors.html)  \n",
    "\n",
    "[Automate the Boring Stuff - Functions](https://automatetheboringstuff.com/chapter3/)"
   ]
  }
 ],
 "metadata": {
  "kernelspec": {
   "display_name": "Python 3 (ipykernel)",
   "language": "python",
   "name": "python3"
  },
  "language_info": {
   "codemirror_mode": {
    "name": "ipython",
    "version": 3
   },
   "file_extension": ".py",
   "mimetype": "text/x-python",
   "name": "python",
   "nbconvert_exporter": "python",
   "pygments_lexer": "ipython3",
   "version": "3.10.14"
  }
 },
 "nbformat": 4,
 "nbformat_minor": 5
}
