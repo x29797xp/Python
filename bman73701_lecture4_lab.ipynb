{
 "cells": [
  {
   "cell_type": "markdown",
   "id": "1698d9eb",
   "metadata": {},
   "source": [
    "## **Programming in Python for Business Analytics (BMAN73701)**"
   ]
  },
  {
   "cell_type": "markdown",
   "id": "150d99db",
   "metadata": {},
   "source": [
    "### **Lab Session: Lecture 4 - Conditionals and Loops**"
   ]
  },
  {
   "cell_type": "markdown",
   "id": "f9baf912",
   "metadata": {},
   "source": [
    "Object-oriented programming (OOP hereafter) is a big, important topic in programming, and we'll be just scratching the surface. It's not just the code that is written, but an entire mindset and way of programming.\n",
    "\n",
    "\n",
    "There is a lot of terminology that may be unfamiliar, so I'll try to define the terminology simply and provide examples in the following section. Typically, memorisation of these words and concepts will come through trying them out, rather than sitting here and reading this multiple times!"
   ]
  },
  {
   "cell_type": "markdown",
   "id": "2aa9f774",
   "metadata": {},
   "source": [
    "### **Definitions & Terminology**"
   ]
  },
  {
   "cell_type": "markdown",
   "id": "50a92d84",
   "metadata": {},
   "source": [
    "**Object**: In Python, everything is an object. It may seem obvious that a variable (something you have assigned a value to) is an object. It may be less obvious that a function is also an object. You can assign a function, a class, and pretty much anything else we encounter to a variable. They are all objects. You can pass them in to arguments of functions and do a whole host of things.  \n",
    "\n",
    "**Class**: A structure for defining a type of object. So, a <code>dict</code> is a class, a <code>list</code> is a class etc. They are useful for grouping together data, and for having variables behave a particular, repeatable way.  \n",
    "\n",
    "**Method**: A function that is associated/part of a class. We've seen some methods before, like <code>.append()</code> is a method of the class List.\n",
    "\n",
    "**Instance**: An object that is of a particular class. So, any list you have ever made is an instance of the class <code>List</code>. You can use the <code>type()</code> function to find out the class of any object.  \n",
    "\n",
    "**Attribute**: Here you can have class attributes and instance attributes. Sometimes they are also called class variables. This is basically assigning and naming different variables, and binding it to an instance or the class itself. Some examples later should clarify this.  "
   ]
  },
  {
   "cell_type": "markdown",
   "id": "e40f9e64",
   "metadata": {},
   "source": [
    "### <span style=\"color:blue\"> **Class** </span>"
   ]
  },
  {
   "cell_type": "markdown",
   "id": "e8ec8dfc",
   "metadata": {},
   "source": [
    "I'll provide a brief example of a class below to illustrate some of the terminology above. For a full explanation, I recommend [this blog post](https://web.archive.org/web/20180106035714/https://jeffknupp.com/blog/2017/03/27/improve-your-python-python-classes-and-object-oriented-programming/) (archive link provided just in case)."
   ]
  },
  {
   "cell_type": "code",
   "execution_count": 8,
   "id": "b3510ad7",
   "metadata": {},
   "outputs": [
    {
     "name": "stdout",
     "output_type": "stream",
     "text": [
      "4\n",
      "4\n",
      "4\n",
      "3\n",
      "Fido woofs! That's their way of saying hello :)\n",
      "None\n",
      "Fido is male !\n",
      "male\n",
      "Fido is too old to play fetch!\n"
     ]
    }
   ],
   "source": [
    "class Dog:\n",
    "    # Define some class variables\n",
    "    # These variables apply to all instances\n",
    "    # If we have a dog with a different number of legs, \n",
    "    # This could be an instance attribute instead\n",
    "    num_legs = 4\n",
    "    \n",
    "    # This is basically the constructor\n",
    "    # When we create an instance, this __init__ function is run\n",
    "    # Like any function, it takes arguments\n",
    "    def __init__(self, name, age):\n",
    "        self.name = name\n",
    "        self.age = age\n",
    "        \n",
    "        # We have some attributes that we might not know at the start\n",
    "        # But we write them here so we know all attributes an instance has\n",
    "        # So we set them to `None` for now\n",
    "        self.gender = None\n",
    "        self.colour = None\n",
    "        self.breed = None\n",
    "    \n",
    "    def bark(self):\n",
    "        print(self.name, \"woofs! That's their way of saying hello :)\")\n",
    "    \n",
    "    # We can have different actions bases on the attributes of the instance\n",
    "    def fetch(self):\n",
    "        if self.age > 10:\n",
    "            print(self.name, \"is too old to play fetch!\")\n",
    "        else:\n",
    "            print(self.name, \"runs after the stick like a bullet!\")\n",
    "            \n",
    "    def check_gender(self, gender):\n",
    "        print(self.name, \"is\", gender, \"!\")\n",
    "        # Assign the given gender argument as a attribute for this instance\n",
    "        self.gender = gender\n",
    "    \n",
    "# Create an instance\n",
    "a_dog = Dog(\"Fido\", 11)\n",
    "\n",
    "# Let's look at class and attribute variables\n",
    "print(Dog.num_legs) # The class variable we set\n",
    "print(a_dog.num_legs) # Instances inherit all class variables\n",
    "a_dog.num_legs = 3\n",
    "print(Dog.num_legs) # the class variable is unchanged\n",
    "print(a_dog.num_legs) # this instance variable is now different\n",
    "\n",
    "print(a_dog.bark()) # Prints our statement and returns None by default\n",
    "a_dog.check_gender(\"male\") # Sets the gender of the dog\n",
    "print(a_dog.gender) # prints male\n",
    "a_dog.fetch() # Poor Fido is too old to play fetch :("
   ]
  },
  {
   "cell_type": "markdown",
   "id": "cb2fd783",
   "metadata": {},
   "source": [
    "The self keyword is important to note. When we called the <code>check_gender()</code> method, we called it through the instance (in the form <code>instance.method()</code>). Therefore, the instance is given as the self argument. We could instead call this method by using <code>Dog.check_gender(a_dog, \"male\")</code>, but this is more writing so we use the other method.\n",
    "\n",
    "Now, onto the exercises!"
   ]
  },
  {
   "cell_type": "markdown",
   "id": "8d1aa85d",
   "metadata": {},
   "source": [
    "### **Exercise 1: A 2D Point**"
   ]
  },
  {
   "cell_type": "markdown",
   "id": "182d4012",
   "metadata": {},
   "source": [
    "1. Create a class called <code>Point</code> that represents a 2D point  \n",
    "\n",
    "2. An instance of <code>Point</code> is initialised with it's x and y values\n",
    "\n",
    "3. Create a method that takes a point (instance), and two values: one to move the point on the x-axis (<code>delta_x</code>), and the other for the y-axis (<code>delta_y</code>)\n",
    "\n",
    "4. Create a method that does the same as the above, but does not actually move the point, but returns what the new x and y coordinates would be if the point was moved. This would be useful to check if moving the point would violate a constraint or not before actually moving it.\n",
    "\n",
    "5. Create a <code>@staticmethod</code> that checks, during the projection method in (4), if the new x or y value would be outside the range [0,10] (inclusive). If so, warn the user. Otherwise, recommend that the point can be safely moved (these are just print statements).\n",
    "\n",
    "6. To test, create an instance with x=7 and y=4. Move the point by -1 and +5 for x and y respectively. Then project moving this point by +2 and +3 for x and y respectively. You should receive a warning during this projection."
   ]
  },
  {
   "cell_type": "code",
   "execution_count": 12,
   "id": "048958f6",
   "metadata": {},
   "outputs": [],
   "source": [
    "class Point:\n",
    "    # Your answer here ...\n",
    "\n",
    "\n",
    "\n",
    "\n",
    "\n",
    "\n",
    "\n",
    "    "
   ]
  },
  {
   "cell_type": "code",
   "execution_count": 13,
   "id": "2612745c-6d3c-44bd-a0d2-80d515fe6f07",
   "metadata": {},
   "outputs": [
    {
     "name": "stdout",
     "output_type": "stream",
     "text": [
      "Starting point: 7 4\n"
     ]
    }
   ],
   "source": [
    "a_point = Point(7,4)\n",
    "print(\"Starting point:\", a_point.x, a_point.y)"
   ]
  },
  {
   "cell_type": "code",
   "execution_count": 14,
   "id": "356c5ec3-5f8f-4554-b35c-f406ba5d101c",
   "metadata": {},
   "outputs": [
    {
     "name": "stdout",
     "output_type": "stream",
     "text": [
      "After moving -1 and +5: 6 9\n"
     ]
    }
   ],
   "source": [
    "a_point.move_point(-1, 5)\n",
    "print(\"After moving -1 and +5:\", a_point.x, a_point.y)"
   ]
  },
  {
   "cell_type": "code",
   "execution_count": 15,
   "id": "bac26740",
   "metadata": {},
   "outputs": [
    {
     "name": "stdout",
     "output_type": "stream",
     "text": [
      "Careful, this violates our constraint!\n"
     ]
    }
   ],
   "source": [
    "a_point.move_point_project(2,3)"
   ]
  },
  {
   "cell_type": "markdown",
   "id": "c7933c95",
   "metadata": {},
   "source": [
    "### <span style=\"color:blue\"> **Inheritance** </span> "
   ]
  },
  {
   "cell_type": "markdown",
   "id": "e7efdf5e",
   "metadata": {},
   "source": [
    "**Example**:\n",
    "\n",
    "1. Create a class  <code>Optimisation_Algorithm</code> which has two methods, <code>eval_objective</code> and  <code>generate_solution</code> (just define them and write pass for now). \n",
    "\n",
    "2. To initialise an instance of this class you need to provide the <code>problem_name</code> (a string). The class also has an attribute <code>solution</code>, which starts as an empty list (and eventually will contain values of 0s and 1s), and <code>obj_function</code> which starts at 0 (we calculate this later).\n",
    "\n",
    "3. The method <code>generate_solution</code> is an abstract method, that takes the number of decision variables (i.e. the length of the list) that the problem has.\n",
    "\n",
    "4. The method <code>eval_objective </code> computes the objective function value for a solution (instance). The objective function value should be set to 0 at the start of this function. If the problem name for this instance is \"<code>maxOnes</code>\", then the objective value is the the number (count) of 1s in our solution. Otherwise, it is the sum (count) of 0s in our solution.\n",
    "\n",
    "5. Create a new class <code>Random_Search</code> that inherits from <code>Optimisation_Algorithm</code>. For this class, define the method <code>generate_solution</code> such that each element in the list is a 0 or 1. The random module, as you know, is great for this. \n",
    "\n",
    "6. Test the code. Create 5 random solutions using the <code>Random_Search</code> class, each with 10 decision variables. Compute the objective function for each solution and print out both the solution (the list) and the corresponding objective function value."
   ]
  },
  {
   "cell_type": "code",
   "execution_count": 24,
   "id": "e4927145",
   "metadata": {},
   "outputs": [],
   "source": [
    "# Example answer\n",
    "import random\n",
    "\n",
    "random.seed(42)\n",
    " \n",
    "class Optimisation_Algorithm:\n",
    "    def __init__(self, problem):\n",
    "        # Initialise variables\n",
    "        self.problem = problem     \n",
    "        self.solution = []\n",
    "        self.obj_function = 0\n",
    "\n",
    "    # Define abstract method\n",
    "    def generate_solution(self, num_variables):\n",
    "        raise NotImplementedError(\"Subclass must implement this method\")\n",
    "\n",
    "    # Evaluate the objective\n",
    "    def eval_objective(self):\n",
    "        # Set to 0 to recalculate\n",
    "        self.obj_function = 0\n",
    "\n",
    "        for item in self.solution:\n",
    "            self.obj_function += item\n",
    "\n",
    "        if self.problem != \"maxOnes\":\n",
    "            self.obj_function = len(self.solution) - self.obj_function\n",
    "            \n",
    "        # Can return the objective function here, but not needed for now\n",
    " \n",
    "\n",
    "class Random_Search(Optimisation_Algorithm):\n",
    "    def generate_solution(self, num_variables):         \n",
    "        for item in range(num_variables):\n",
    "            self.solution.append(random.randint(0,1))"
   ]
  },
  {
   "cell_type": "markdown",
   "id": "d3db8e0e",
   "metadata": {},
   "source": [
    "Using random.seed(42), for part (6) your output should be:"
   ]
  },
  {
   "cell_type": "code",
   "execution_count": 26,
   "id": "bb41b59e",
   "metadata": {},
   "outputs": [
    {
     "name": "stdout",
     "output_type": "stream",
     "text": [
      "[0, 0, 1, 0, 0, 0, 0, 0, 1, 0] 2\n",
      "[0, 0, 0, 0, 0, 0, 1, 0, 1, 1] 3\n",
      "[0, 0, 1, 1, 1, 0, 0, 1, 0, 0] 4\n",
      "[1, 0, 1, 1, 1, 0, 1, 0, 1, 0] 6\n",
      "[1, 1, 0, 0, 0, 0, 1, 0, 0, 0] 3\n"
     ]
    }
   ],
   "source": [
    "random.seed(42)\n",
    "num_solutions = 5\n",
    "num_variables = 10\n",
    "for i in range(num_solutions):\n",
    "    sol = Random_Search(\"maxOnes\")\n",
    "    sol.generate_solution(num_variables)\n",
    "    sol.eval_objective()\n",
    "    \n",
    "    print(sol.solution, sol.obj_function)\n"
   ]
  },
  {
   "cell_type": "markdown",
   "id": "8560f4b2",
   "metadata": {},
   "source": [
    "### **Exercise 2: Swap information between two lists**"
   ]
  },
  {
   "cell_type": "markdown",
   "id": "7231d2dd",
   "metadata": {},
   "source": [
    "This extends the above example.\n",
    "\n",
    "The task is to extend the class <code> Optimisation_Algorithm </code> with a method <code>update_solution</code>, and then implement this method in the <code>Random_Search</code> class as follows:\n",
    "\n",
    "1. The method has two inputs (two instances). As we know, the convention for the first instance is self. For the second, use other.  \n",
    "2. The method checks that the two lists are equally sized, and if not raises an error.  \n",
    "3. Prompt the user to give a start and stop value, i.e. what section of the list to swap with the other.  \n",
    "4. Check that the user has given valid integers for the start and stop. You'll need to check that they are: positive values (0 or more); not more than the length of the list; and that the start value is lower than the stop. If a value is incorrect, then the user is asked again for new values. Hint: This and part (3) are part of a loop together. You'll also need flow control and if statements.  \n",
    "5. With valid values for start and stop, we can swap the information between the lists and prints both the original lists and the results of the swap. You'll need to add together different parts of the two lists (using indexing).  \n",
    "6. Test your program (see example below).  "
   ]
  },
  {
   "cell_type": "code",
   "execution_count": 29,
   "id": "c1db1271-22ce-464e-982b-e7876f5369bd",
   "metadata": {},
   "outputs": [],
   "source": [
    "import random\n",
    "\n",
    "random.seed(42)\n",
    "\n",
    "class Random_Search(Optimisation_Algorithm):\n",
    "    def generate_solution(self, num_variables):         \n",
    "        for item in range(num_variables):\n",
    "            self.solution.append(random.randint(0,1))\n",
    "    def update_solution(self, other):\n",
    "      \n",
    "        # Your answer here...\n",
    "\n",
    "\n",
    "\n",
    "\n",
    "\n",
    "\n",
    "\n",
    "\n",
    "\n",
    "\n",
    "        \n",
    "        pass"
   ]
  },
  {
   "cell_type": "code",
   "execution_count": 31,
   "id": "4b18cc0d",
   "metadata": {},
   "outputs": [
    {
     "name": "stdout",
     "output_type": "stream",
     "text": [
      "[0, 0, 1, 0, 0, 0, 0, 0, 1, 0]\n",
      "[0, 0, 0, 0, 0, 0, 1, 0, 1, 1]\n"
     ]
    },
    {
     "name": "stdin",
     "output_type": "stream",
     "text": [
      "Please provide an integer to select where to start cutting from:  2\n",
      "Please provide an integer to select where to stop cutting from:  7\n"
     ]
    },
    {
     "name": "stdout",
     "output_type": "stream",
     "text": [
      "[0, 0, 0, 0, 0, 0, 1, 0, 1, 0]\n",
      "[0, 0, 1, 0, 0, 0, 0, 0, 1, 1]\n"
     ]
    }
   ],
   "source": [
    "sol1 = Random_Search(\"maxOnes\")\n",
    "sol2 = Random_Search(\"maxOnes\")\n",
    "sol1.generate_solution(10)\n",
    "sol2.generate_solution(10)\n",
    "\n",
    "print(sol1.solution)\n",
    "print(sol2.solution)\n",
    "sol1.update_solution(sol2)\n",
    "print(sol1.solution)\n",
    "print(sol2.solution)"
   ]
  },
  {
   "cell_type": "markdown",
   "id": "3c170b04",
   "metadata": {},
   "source": [
    "### Further Resources"
   ]
  },
  {
   "cell_type": "markdown",
   "id": "ee445f01",
   "metadata": {},
   "source": [
    "[Intro to Python Classes & OOP - Jeff Knupp's Blog](https://web.archive.org/web/20180106035714/https://jeffknupp.com/blog/2017/03/27/improve-your-python-python-classes-and-object-oriented-programming/)\n",
    "\n",
    "[Real Python's explanation](https://realpython.com/instance-class-and-static-methods-demystified/)\n",
    "\n",
    "[When to use static, class, or abstract methods](https://julien.danjou.info/guide-python-static-class-abstract-methods)\n",
    "\n",
    "[Python documentation on class](https://docs.python.org/3/tutorial/classes.html)\n",
    "\n",
    "\n",
    "\n"
   ]
  }
 ],
 "metadata": {
  "kernelspec": {
   "display_name": "Python 3 (ipykernel)",
   "language": "python",
   "name": "python3"
  },
  "language_info": {
   "codemirror_mode": {
    "name": "ipython",
    "version": 3
   },
   "file_extension": ".py",
   "mimetype": "text/x-python",
   "name": "python",
   "nbconvert_exporter": "python",
   "pygments_lexer": "ipython3",
   "version": "3.10.14"
  }
 },
 "nbformat": 4,
 "nbformat_minor": 5
}
